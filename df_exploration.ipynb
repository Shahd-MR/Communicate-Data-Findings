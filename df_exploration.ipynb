{
 "cells": [
  {
   "cell_type": "markdown",
   "metadata": {},
   "source": [
    "# Blue Bike System Data\n",
    "## by Shahd Alruwaili\n",
    "\n",
    "Blue Bike is a puplic service provided in Boston state, where poeple rent bikes for a single trip, or buy a monthly/annualy subscribtion, with more than 300 stations across Boston, Brookline, Cambridge, Everett, and Somerville. This dataset contains records of Blue Bike trips from January to May of the year 2019.   "
   ]
  },
  {
   "cell_type": "code",
   "execution_count": 1,
   "metadata": {},
   "outputs": [],
   "source": [
    "# import all packages and set plots to be embedded inline\n",
    "import numpy as np\n",
    "import pandas as pd\n",
    "import matplotlib.pyplot as plt\n",
    "import seaborn as sb\n",
    "\n",
    "%matplotlib inline"
   ]
  },
  {
   "cell_type": "code",
   "execution_count": 2,
   "metadata": {
    "scrolled": true
   },
   "outputs": [],
   "source": [
    "# load the dataset for the months from Jan to May of the year 2019\n",
    "df1 = pd.read_csv('201901-bluebikes-tripdata.csv')\n",
    "df2 = pd.read_csv('201902-bluebikes-tripdata.csv')\n",
    "df3 = pd.read_csv('201903-bluebikes-tripdata.csv')\n",
    "df4 = pd.read_csv('201904-bluebikes-tripdata.csv')\n",
    "df5 = pd.read_csv('201905-bluebikes-tripdata.csv')"
   ]
  },
  {
   "cell_type": "markdown",
   "metadata": {},
   "source": [
    "## Preliminary Wrangling and Assessing"
   ]
  },
  {
   "cell_type": "code",
   "execution_count": 3,
   "metadata": {},
   "outputs": [
    {
     "data": {
      "text/html": [
       "<div>\n",
       "<style scoped>\n",
       "    .dataframe tbody tr th:only-of-type {\n",
       "        vertical-align: middle;\n",
       "    }\n",
       "\n",
       "    .dataframe tbody tr th {\n",
       "        vertical-align: top;\n",
       "    }\n",
       "\n",
       "    .dataframe thead th {\n",
       "        text-align: right;\n",
       "    }\n",
       "</style>\n",
       "<table border=\"1\" class=\"dataframe\">\n",
       "  <thead>\n",
       "    <tr style=\"text-align: right;\">\n",
       "      <th></th>\n",
       "      <th>tripduration</th>\n",
       "      <th>starttime</th>\n",
       "      <th>stoptime</th>\n",
       "      <th>start station id</th>\n",
       "      <th>start station name</th>\n",
       "      <th>start station latitude</th>\n",
       "      <th>start station longitude</th>\n",
       "      <th>end station id</th>\n",
       "      <th>end station name</th>\n",
       "      <th>end station latitude</th>\n",
       "      <th>end station longitude</th>\n",
       "      <th>bikeid</th>\n",
       "      <th>usertype</th>\n",
       "      <th>birth year</th>\n",
       "      <th>gender</th>\n",
       "    </tr>\n",
       "  </thead>\n",
       "  <tbody>\n",
       "    <tr>\n",
       "      <th>0</th>\n",
       "      <td>371</td>\n",
       "      <td>2019-01-01 00:09:13.7980</td>\n",
       "      <td>2019-01-01 00:15:25.3360</td>\n",
       "      <td>80</td>\n",
       "      <td>MIT Stata Center at Vassar St / Main St</td>\n",
       "      <td>42.362131</td>\n",
       "      <td>-71.091156</td>\n",
       "      <td>179</td>\n",
       "      <td>MIT Vassar St</td>\n",
       "      <td>42.355601</td>\n",
       "      <td>-71.103945</td>\n",
       "      <td>3689</td>\n",
       "      <td>Subscriber</td>\n",
       "      <td>1987</td>\n",
       "      <td>1</td>\n",
       "    </tr>\n",
       "  </tbody>\n",
       "</table>\n",
       "</div>"
      ],
      "text/plain": [
       "   tripduration                 starttime                  stoptime  \\\n",
       "0           371  2019-01-01 00:09:13.7980  2019-01-01 00:15:25.3360   \n",
       "\n",
       "   start station id                       start station name  \\\n",
       "0                80  MIT Stata Center at Vassar St / Main St   \n",
       "\n",
       "   start station latitude  start station longitude  end station id  \\\n",
       "0               42.362131               -71.091156             179   \n",
       "\n",
       "  end station name  end station latitude  end station longitude  bikeid  \\\n",
       "0    MIT Vassar St             42.355601             -71.103945    3689   \n",
       "\n",
       "     usertype  birth year  gender  \n",
       "0  Subscriber        1987       1  "
      ]
     },
     "execution_count": 3,
     "metadata": {},
     "output_type": "execute_result"
    }
   ],
   "source": [
    "df1.head(1)"
   ]
  },
  {
   "cell_type": "code",
   "execution_count": 4,
   "metadata": {
    "scrolled": true
   },
   "outputs": [
    {
     "data": {
      "text/html": [
       "<div>\n",
       "<style scoped>\n",
       "    .dataframe tbody tr th:only-of-type {\n",
       "        vertical-align: middle;\n",
       "    }\n",
       "\n",
       "    .dataframe tbody tr th {\n",
       "        vertical-align: top;\n",
       "    }\n",
       "\n",
       "    .dataframe thead th {\n",
       "        text-align: right;\n",
       "    }\n",
       "</style>\n",
       "<table border=\"1\" class=\"dataframe\">\n",
       "  <thead>\n",
       "    <tr style=\"text-align: right;\">\n",
       "      <th></th>\n",
       "      <th>tripduration</th>\n",
       "      <th>starttime</th>\n",
       "      <th>stoptime</th>\n",
       "      <th>start station id</th>\n",
       "      <th>start station name</th>\n",
       "      <th>start station latitude</th>\n",
       "      <th>start station longitude</th>\n",
       "      <th>end station id</th>\n",
       "      <th>end station name</th>\n",
       "      <th>end station latitude</th>\n",
       "      <th>end station longitude</th>\n",
       "      <th>bikeid</th>\n",
       "      <th>usertype</th>\n",
       "      <th>birth year</th>\n",
       "      <th>gender</th>\n",
       "    </tr>\n",
       "  </thead>\n",
       "  <tbody>\n",
       "    <tr>\n",
       "      <th>0</th>\n",
       "      <td>331</td>\n",
       "      <td>2019-02-01 00:03:56.3250</td>\n",
       "      <td>2019-02-01 00:09:28.1720</td>\n",
       "      <td>108</td>\n",
       "      <td>Harvard University / SEAS Cruft-Pierce Halls a...</td>\n",
       "      <td>42.377945</td>\n",
       "      <td>-71.116865</td>\n",
       "      <td>377</td>\n",
       "      <td>Perry Park</td>\n",
       "      <td>42.379273</td>\n",
       "      <td>-71.103419</td>\n",
       "      <td>3817</td>\n",
       "      <td>Subscriber</td>\n",
       "      <td>1988</td>\n",
       "      <td>1</td>\n",
       "    </tr>\n",
       "  </tbody>\n",
       "</table>\n",
       "</div>"
      ],
      "text/plain": [
       "   tripduration                 starttime                  stoptime  \\\n",
       "0           331  2019-02-01 00:03:56.3250  2019-02-01 00:09:28.1720   \n",
       "\n",
       "   start station id                                 start station name  \\\n",
       "0               108  Harvard University / SEAS Cruft-Pierce Halls a...   \n",
       "\n",
       "   start station latitude  start station longitude  end station id  \\\n",
       "0               42.377945               -71.116865             377   \n",
       "\n",
       "  end station name  end station latitude  end station longitude  bikeid  \\\n",
       "0       Perry Park             42.379273             -71.103419    3817   \n",
       "\n",
       "     usertype  birth year  gender  \n",
       "0  Subscriber        1988       1  "
      ]
     },
     "execution_count": 4,
     "metadata": {},
     "output_type": "execute_result"
    }
   ],
   "source": [
    "df2.head(1)"
   ]
  },
  {
   "cell_type": "code",
   "execution_count": 5,
   "metadata": {},
   "outputs": [
    {
     "data": {
      "text/html": [
       "<div>\n",
       "<style scoped>\n",
       "    .dataframe tbody tr th:only-of-type {\n",
       "        vertical-align: middle;\n",
       "    }\n",
       "\n",
       "    .dataframe tbody tr th {\n",
       "        vertical-align: top;\n",
       "    }\n",
       "\n",
       "    .dataframe thead th {\n",
       "        text-align: right;\n",
       "    }\n",
       "</style>\n",
       "<table border=\"1\" class=\"dataframe\">\n",
       "  <thead>\n",
       "    <tr style=\"text-align: right;\">\n",
       "      <th></th>\n",
       "      <th>tripduration</th>\n",
       "      <th>starttime</th>\n",
       "      <th>stoptime</th>\n",
       "      <th>start station id</th>\n",
       "      <th>start station name</th>\n",
       "      <th>start station latitude</th>\n",
       "      <th>start station longitude</th>\n",
       "      <th>end station id</th>\n",
       "      <th>end station name</th>\n",
       "      <th>end station latitude</th>\n",
       "      <th>end station longitude</th>\n",
       "      <th>bikeid</th>\n",
       "      <th>usertype</th>\n",
       "      <th>birth year</th>\n",
       "      <th>gender</th>\n",
       "    </tr>\n",
       "  </thead>\n",
       "  <tbody>\n",
       "    <tr>\n",
       "      <th>0</th>\n",
       "      <td>513</td>\n",
       "      <td>2019-03-01 00:00:50.9430</td>\n",
       "      <td>2019-03-01 00:09:24.6550</td>\n",
       "      <td>27</td>\n",
       "      <td>Roxbury Crossing T Stop - Columbus Ave at Trem...</td>\n",
       "      <td>42.331184</td>\n",
       "      <td>-71.095171</td>\n",
       "      <td>282</td>\n",
       "      <td>Stony Brook T Stop</td>\n",
       "      <td>42.316966</td>\n",
       "      <td>-71.104374</td>\n",
       "      <td>4088</td>\n",
       "      <td>Subscriber</td>\n",
       "      <td>1995</td>\n",
       "      <td>1</td>\n",
       "    </tr>\n",
       "  </tbody>\n",
       "</table>\n",
       "</div>"
      ],
      "text/plain": [
       "   tripduration                 starttime                  stoptime  \\\n",
       "0           513  2019-03-01 00:00:50.9430  2019-03-01 00:09:24.6550   \n",
       "\n",
       "   start station id                                 start station name  \\\n",
       "0                27  Roxbury Crossing T Stop - Columbus Ave at Trem...   \n",
       "\n",
       "   start station latitude  start station longitude  end station id  \\\n",
       "0               42.331184               -71.095171             282   \n",
       "\n",
       "     end station name  end station latitude  end station longitude  bikeid  \\\n",
       "0  Stony Brook T Stop             42.316966             -71.104374    4088   \n",
       "\n",
       "     usertype  birth year  gender  \n",
       "0  Subscriber        1995       1  "
      ]
     },
     "execution_count": 5,
     "metadata": {},
     "output_type": "execute_result"
    }
   ],
   "source": [
    "df3.head(1)"
   ]
  },
  {
   "cell_type": "code",
   "execution_count": 6,
   "metadata": {
    "scrolled": true
   },
   "outputs": [
    {
     "data": {
      "text/html": [
       "<div>\n",
       "<style scoped>\n",
       "    .dataframe tbody tr th:only-of-type {\n",
       "        vertical-align: middle;\n",
       "    }\n",
       "\n",
       "    .dataframe tbody tr th {\n",
       "        vertical-align: top;\n",
       "    }\n",
       "\n",
       "    .dataframe thead th {\n",
       "        text-align: right;\n",
       "    }\n",
       "</style>\n",
       "<table border=\"1\" class=\"dataframe\">\n",
       "  <thead>\n",
       "    <tr style=\"text-align: right;\">\n",
       "      <th></th>\n",
       "      <th>tripduration</th>\n",
       "      <th>starttime</th>\n",
       "      <th>stoptime</th>\n",
       "      <th>start station id</th>\n",
       "      <th>start station name</th>\n",
       "      <th>start station latitude</th>\n",
       "      <th>start station longitude</th>\n",
       "      <th>end station id</th>\n",
       "      <th>end station name</th>\n",
       "      <th>end station latitude</th>\n",
       "      <th>end station longitude</th>\n",
       "      <th>bikeid</th>\n",
       "      <th>usertype</th>\n",
       "      <th>birth year</th>\n",
       "      <th>gender</th>\n",
       "    </tr>\n",
       "  </thead>\n",
       "  <tbody>\n",
       "    <tr>\n",
       "      <th>0</th>\n",
       "      <td>3363</td>\n",
       "      <td>2019-04-01 00:04:38.1400</td>\n",
       "      <td>2019-04-01 01:00:41.6390</td>\n",
       "      <td>8</td>\n",
       "      <td>Union Square - Brighton Ave at Cambridge St</td>\n",
       "      <td>42.353334</td>\n",
       "      <td>-71.137313</td>\n",
       "      <td>8</td>\n",
       "      <td>Union Square - Brighton Ave at Cambridge St</td>\n",
       "      <td>42.353334</td>\n",
       "      <td>-71.137313</td>\n",
       "      <td>3736</td>\n",
       "      <td>Customer</td>\n",
       "      <td>1969</td>\n",
       "      <td>0</td>\n",
       "    </tr>\n",
       "  </tbody>\n",
       "</table>\n",
       "</div>"
      ],
      "text/plain": [
       "   tripduration                 starttime                  stoptime  \\\n",
       "0          3363  2019-04-01 00:04:38.1400  2019-04-01 01:00:41.6390   \n",
       "\n",
       "   start station id                           start station name  \\\n",
       "0                 8  Union Square - Brighton Ave at Cambridge St   \n",
       "\n",
       "   start station latitude  start station longitude  end station id  \\\n",
       "0               42.353334               -71.137313               8   \n",
       "\n",
       "                              end station name  end station latitude  \\\n",
       "0  Union Square - Brighton Ave at Cambridge St             42.353334   \n",
       "\n",
       "   end station longitude  bikeid  usertype  birth year  gender  \n",
       "0             -71.137313    3736  Customer        1969       0  "
      ]
     },
     "execution_count": 6,
     "metadata": {},
     "output_type": "execute_result"
    }
   ],
   "source": [
    "df4.head(1)"
   ]
  },
  {
   "cell_type": "code",
   "execution_count": 7,
   "metadata": {
    "scrolled": true
   },
   "outputs": [
    {
     "data": {
      "text/html": [
       "<div>\n",
       "<style scoped>\n",
       "    .dataframe tbody tr th:only-of-type {\n",
       "        vertical-align: middle;\n",
       "    }\n",
       "\n",
       "    .dataframe tbody tr th {\n",
       "        vertical-align: top;\n",
       "    }\n",
       "\n",
       "    .dataframe thead th {\n",
       "        text-align: right;\n",
       "    }\n",
       "</style>\n",
       "<table border=\"1\" class=\"dataframe\">\n",
       "  <thead>\n",
       "    <tr style=\"text-align: right;\">\n",
       "      <th></th>\n",
       "      <th>tripduration</th>\n",
       "      <th>starttime</th>\n",
       "      <th>stoptime</th>\n",
       "      <th>start station id</th>\n",
       "      <th>start station name</th>\n",
       "      <th>start station latitude</th>\n",
       "      <th>start station longitude</th>\n",
       "      <th>end station id</th>\n",
       "      <th>end station name</th>\n",
       "      <th>end station latitude</th>\n",
       "      <th>end station longitude</th>\n",
       "      <th>bikeid</th>\n",
       "      <th>usertype</th>\n",
       "      <th>birth year</th>\n",
       "      <th>gender</th>\n",
       "    </tr>\n",
       "  </thead>\n",
       "  <tbody>\n",
       "    <tr>\n",
       "      <th>0</th>\n",
       "      <td>645</td>\n",
       "      <td>2019-05-01 00:00:52.9480</td>\n",
       "      <td>2019-05-01 00:11:38.4330</td>\n",
       "      <td>9</td>\n",
       "      <td>Commonwealth Ave at Agganis Way</td>\n",
       "      <td>42.351692</td>\n",
       "      <td>-71.119035</td>\n",
       "      <td>53</td>\n",
       "      <td>Beacon St at Massachusetts Ave</td>\n",
       "      <td>42.350827</td>\n",
       "      <td>-71.089811</td>\n",
       "      <td>3298</td>\n",
       "      <td>Customer</td>\n",
       "      <td>1969</td>\n",
       "      <td>0</td>\n",
       "    </tr>\n",
       "  </tbody>\n",
       "</table>\n",
       "</div>"
      ],
      "text/plain": [
       "   tripduration                 starttime                  stoptime  \\\n",
       "0           645  2019-05-01 00:00:52.9480  2019-05-01 00:11:38.4330   \n",
       "\n",
       "   start station id               start station name  start station latitude  \\\n",
       "0                 9  Commonwealth Ave at Agganis Way               42.351692   \n",
       "\n",
       "   start station longitude  end station id                end station name  \\\n",
       "0               -71.119035              53  Beacon St at Massachusetts Ave   \n",
       "\n",
       "   end station latitude  end station longitude  bikeid  usertype  birth year  \\\n",
       "0             42.350827             -71.089811    3298  Customer        1969   \n",
       "\n",
       "   gender  \n",
       "0       0  "
      ]
     },
     "execution_count": 7,
     "metadata": {},
     "output_type": "execute_result"
    }
   ],
   "source": [
    "df5.head(1)"
   ]
  },
  {
   "cell_type": "code",
   "execution_count": 8,
   "metadata": {},
   "outputs": [
    {
     "data": {
      "text/plain": [
       "(69872, 15)"
      ]
     },
     "execution_count": 8,
     "metadata": {},
     "output_type": "execute_result"
    }
   ],
   "source": [
    "df1.shape"
   ]
  },
  {
   "cell_type": "code",
   "execution_count": 9,
   "metadata": {},
   "outputs": [
    {
     "data": {
      "text/plain": [
       "(80466, 15)"
      ]
     },
     "execution_count": 9,
     "metadata": {},
     "output_type": "execute_result"
    }
   ],
   "source": [
    "df2.shape"
   ]
  },
  {
   "cell_type": "code",
   "execution_count": 10,
   "metadata": {},
   "outputs": [
    {
     "data": {
      "text/plain": [
       "(102369, 15)"
      ]
     },
     "execution_count": 10,
     "metadata": {},
     "output_type": "execute_result"
    }
   ],
   "source": [
    "df3.shape"
   ]
  },
  {
   "cell_type": "code",
   "execution_count": 11,
   "metadata": {},
   "outputs": [
    {
     "data": {
      "text/plain": [
       "(166694, 15)"
      ]
     },
     "execution_count": 11,
     "metadata": {},
     "output_type": "execute_result"
    }
   ],
   "source": [
    "df4.shape"
   ]
  },
  {
   "cell_type": "code",
   "execution_count": 12,
   "metadata": {},
   "outputs": [
    {
     "data": {
      "text/plain": [
       "(223084, 15)"
      ]
     },
     "execution_count": 12,
     "metadata": {},
     "output_type": "execute_result"
    }
   ],
   "source": [
    "df5.shape"
   ]
  },
  {
   "cell_type": "code",
   "execution_count": 13,
   "metadata": {},
   "outputs": [
    {
     "name": "stdout",
     "output_type": "stream",
     "text": [
      "<class 'pandas.core.frame.DataFrame'>\n",
      "RangeIndex: 69872 entries, 0 to 69871\n",
      "Data columns (total 15 columns):\n",
      " #   Column                   Non-Null Count  Dtype  \n",
      "---  ------                   --------------  -----  \n",
      " 0   tripduration             69872 non-null  int64  \n",
      " 1   starttime                69872 non-null  object \n",
      " 2   stoptime                 69872 non-null  object \n",
      " 3   start station id         69872 non-null  int64  \n",
      " 4   start station name       69872 non-null  object \n",
      " 5   start station latitude   69872 non-null  float64\n",
      " 6   start station longitude  69872 non-null  float64\n",
      " 7   end station id           69872 non-null  int64  \n",
      " 8   end station name         69872 non-null  object \n",
      " 9   end station latitude     69872 non-null  float64\n",
      " 10  end station longitude    69872 non-null  float64\n",
      " 11  bikeid                   69872 non-null  int64  \n",
      " 12  usertype                 69872 non-null  object \n",
      " 13  birth year               69872 non-null  int64  \n",
      " 14  gender                   69872 non-null  int64  \n",
      "dtypes: float64(4), int64(6), object(5)\n",
      "memory usage: 8.0+ MB\n"
     ]
    }
   ],
   "source": [
    "df1.info()"
   ]
  },
  {
   "cell_type": "code",
   "execution_count": 14,
   "metadata": {},
   "outputs": [
    {
     "name": "stdout",
     "output_type": "stream",
     "text": [
      "<class 'pandas.core.frame.DataFrame'>\n",
      "RangeIndex: 80466 entries, 0 to 80465\n",
      "Data columns (total 15 columns):\n",
      " #   Column                   Non-Null Count  Dtype  \n",
      "---  ------                   --------------  -----  \n",
      " 0   tripduration             80466 non-null  int64  \n",
      " 1   starttime                80466 non-null  object \n",
      " 2   stoptime                 80466 non-null  object \n",
      " 3   start station id         80466 non-null  int64  \n",
      " 4   start station name       80466 non-null  object \n",
      " 5   start station latitude   80466 non-null  float64\n",
      " 6   start station longitude  80466 non-null  float64\n",
      " 7   end station id           80466 non-null  int64  \n",
      " 8   end station name         80466 non-null  object \n",
      " 9   end station latitude     80466 non-null  float64\n",
      " 10  end station longitude    80466 non-null  float64\n",
      " 11  bikeid                   80466 non-null  int64  \n",
      " 12  usertype                 80466 non-null  object \n",
      " 13  birth year               80466 non-null  int64  \n",
      " 14  gender                   80466 non-null  int64  \n",
      "dtypes: float64(4), int64(6), object(5)\n",
      "memory usage: 9.2+ MB\n"
     ]
    }
   ],
   "source": [
    "df2.info()"
   ]
  },
  {
   "cell_type": "code",
   "execution_count": 15,
   "metadata": {},
   "outputs": [
    {
     "name": "stdout",
     "output_type": "stream",
     "text": [
      "<class 'pandas.core.frame.DataFrame'>\n",
      "RangeIndex: 102369 entries, 0 to 102368\n",
      "Data columns (total 15 columns):\n",
      " #   Column                   Non-Null Count   Dtype  \n",
      "---  ------                   --------------   -----  \n",
      " 0   tripduration             102369 non-null  int64  \n",
      " 1   starttime                102369 non-null  object \n",
      " 2   stoptime                 102369 non-null  object \n",
      " 3   start station id         102369 non-null  int64  \n",
      " 4   start station name       102369 non-null  object \n",
      " 5   start station latitude   102369 non-null  float64\n",
      " 6   start station longitude  102369 non-null  float64\n",
      " 7   end station id           102369 non-null  int64  \n",
      " 8   end station name         102369 non-null  object \n",
      " 9   end station latitude     102369 non-null  float64\n",
      " 10  end station longitude    102369 non-null  float64\n",
      " 11  bikeid                   102369 non-null  int64  \n",
      " 12  usertype                 102369 non-null  object \n",
      " 13  birth year               102369 non-null  int64  \n",
      " 14  gender                   102369 non-null  int64  \n",
      "dtypes: float64(4), int64(6), object(5)\n",
      "memory usage: 11.7+ MB\n"
     ]
    }
   ],
   "source": [
    "df3.info()"
   ]
  },
  {
   "cell_type": "code",
   "execution_count": 16,
   "metadata": {
    "scrolled": true
   },
   "outputs": [
    {
     "name": "stdout",
     "output_type": "stream",
     "text": [
      "<class 'pandas.core.frame.DataFrame'>\n",
      "RangeIndex: 166694 entries, 0 to 166693\n",
      "Data columns (total 15 columns):\n",
      " #   Column                   Non-Null Count   Dtype  \n",
      "---  ------                   --------------   -----  \n",
      " 0   tripduration             166694 non-null  int64  \n",
      " 1   starttime                166694 non-null  object \n",
      " 2   stoptime                 166694 non-null  object \n",
      " 3   start station id         166694 non-null  int64  \n",
      " 4   start station name       166694 non-null  object \n",
      " 5   start station latitude   166694 non-null  float64\n",
      " 6   start station longitude  166694 non-null  float64\n",
      " 7   end station id           166694 non-null  int64  \n",
      " 8   end station name         166694 non-null  object \n",
      " 9   end station latitude     166694 non-null  float64\n",
      " 10  end station longitude    166694 non-null  float64\n",
      " 11  bikeid                   166694 non-null  int64  \n",
      " 12  usertype                 166694 non-null  object \n",
      " 13  birth year               166694 non-null  int64  \n",
      " 14  gender                   166694 non-null  int64  \n",
      "dtypes: float64(4), int64(6), object(5)\n",
      "memory usage: 19.1+ MB\n"
     ]
    }
   ],
   "source": [
    "df4.info()"
   ]
  },
  {
   "cell_type": "code",
   "execution_count": 17,
   "metadata": {
    "scrolled": true
   },
   "outputs": [
    {
     "name": "stdout",
     "output_type": "stream",
     "text": [
      "<class 'pandas.core.frame.DataFrame'>\n",
      "RangeIndex: 223084 entries, 0 to 223083\n",
      "Data columns (total 15 columns):\n",
      " #   Column                   Non-Null Count   Dtype  \n",
      "---  ------                   --------------   -----  \n",
      " 0   tripduration             223084 non-null  int64  \n",
      " 1   starttime                223084 non-null  object \n",
      " 2   stoptime                 223084 non-null  object \n",
      " 3   start station id         223084 non-null  int64  \n",
      " 4   start station name       223084 non-null  object \n",
      " 5   start station latitude   223084 non-null  float64\n",
      " 6   start station longitude  223084 non-null  float64\n",
      " 7   end station id           223084 non-null  int64  \n",
      " 8   end station name         223084 non-null  object \n",
      " 9   end station latitude     223084 non-null  float64\n",
      " 10  end station longitude    223084 non-null  float64\n",
      " 11  bikeid                   223084 non-null  int64  \n",
      " 12  usertype                 223084 non-null  object \n",
      " 13  birth year               223084 non-null  int64  \n",
      " 14  gender                   223084 non-null  int64  \n",
      "dtypes: float64(4), int64(6), object(5)\n",
      "memory usage: 25.5+ MB\n"
     ]
    }
   ],
   "source": [
    "df5.info()"
   ]
  },
  {
   "cell_type": "markdown",
   "metadata": {},
   "source": [
    "### What is the structure of your dataset?\n",
    "\n",
    "The BlueBikes dataset of Boston consists of 642485 bike trip records and 15 columns.  \n",
    "\n",
    "### What is/are the main feature(s) of interest in your dataset?\n",
    "\n",
    "The main features of interest are gender, usertype, trip duration, start and stop times. "
   ]
  },
  {
   "cell_type": "markdown",
   "metadata": {},
   "source": [
    "### Quility issues\n",
    "- Column names has spaces between words\n",
    "- the 'gender' column has integers where 0 =  unknown, 1= Male, 2= Female \n",
    "- 'start time' and 'stop time' are object type instead of datetime\n",
    "\n",
    "### Tideness issues\n",
    "- combine all 5 dataframes together"
   ]
  },
  {
   "cell_type": "markdown",
   "metadata": {},
   "source": [
    "## Clean"
   ]
  },
  {
   "cell_type": "code",
   "execution_count": 18,
   "metadata": {
    "scrolled": false
   },
   "outputs": [
    {
     "name": "stdout",
     "output_type": "stream",
     "text": [
      "<class 'pandas.core.frame.DataFrame'>\n",
      "Int64Index: 642485 entries, 0 to 223083\n",
      "Data columns (total 15 columns):\n",
      " #   Column                   Non-Null Count   Dtype  \n",
      "---  ------                   --------------   -----  \n",
      " 0   tripduration             642485 non-null  int64  \n",
      " 1   starttime                642485 non-null  object \n",
      " 2   stoptime                 642485 non-null  object \n",
      " 3   start station id         642485 non-null  int64  \n",
      " 4   start station name       642485 non-null  object \n",
      " 5   start station latitude   642485 non-null  float64\n",
      " 6   start station longitude  642485 non-null  float64\n",
      " 7   end station id           642485 non-null  int64  \n",
      " 8   end station name         642485 non-null  object \n",
      " 9   end station latitude     642485 non-null  float64\n",
      " 10  end station longitude    642485 non-null  float64\n",
      " 11  bikeid                   642485 non-null  int64  \n",
      " 12  usertype                 642485 non-null  object \n",
      " 13  birth year               642485 non-null  int64  \n",
      " 14  gender                   642485 non-null  int64  \n",
      "dtypes: float64(4), int64(6), object(5)\n",
      "memory usage: 78.4+ MB\n"
     ]
    }
   ],
   "source": [
    "# combine all 5 dataframes together\n",
    "df = pd.concat([df1, df2, df3, df4, df5])\n",
    "df.info()"
   ]
  },
  {
   "cell_type": "code",
   "execution_count": 19,
   "metadata": {},
   "outputs": [],
   "source": [
    "# make a copy of the dataset before cleaning\n",
    "df_clean = df.copy()"
   ]
  },
  {
   "cell_type": "code",
   "execution_count": 20,
   "metadata": {},
   "outputs": [
    {
     "data": {
      "text/plain": [
       "Index(['tripduration', 'starttime', 'stoptime', 'start_station_id',\n",
       "       'start_station_name', 'start_station_latitude',\n",
       "       'start_station_longitude', 'end_station_id', 'end_station_name',\n",
       "       'end_station_latitude', 'end_station_longitude', 'bikeid', 'usertype',\n",
       "       'birth_year', 'gender'],\n",
       "      dtype='object')"
      ]
     },
     "execution_count": 20,
     "metadata": {},
     "output_type": "execute_result"
    }
   ],
   "source": [
    "# replace space with underscore in column names. This will allow for dot notation. \n",
    "df_clean.columns = [c.replace(' ', '_') for c in df_clean.columns]\n",
    "df_clean.columns"
   ]
  },
  {
   "cell_type": "code",
   "execution_count": 21,
   "metadata": {},
   "outputs": [
    {
     "data": {
      "text/plain": [
       "0            male\n",
       "1            male\n",
       "2            male\n",
       "3            male\n",
       "4          female\n",
       "           ...   \n",
       "223079       male\n",
       "223080       male\n",
       "223081    unknown\n",
       "223082       male\n",
       "223083     female\n",
       "Name: gender, Length: 642485, dtype: object"
      ]
     },
     "execution_count": 21,
     "metadata": {},
     "output_type": "execute_result"
    }
   ],
   "source": [
    "# Convert the gender column to string then replace the number strings with male, female, unknown. \n",
    "df_clean['gender'] = df_clean['gender'].astype(str)\n",
    "replace_vals = {'0':'unknown', '1':'male', '2':'female'}\n",
    "df_clean = df_clean.replace({\"gender\": replace_vals})\n",
    "df_clean['gender']"
   ]
  },
  {
   "cell_type": "code",
   "execution_count": 22,
   "metadata": {
    "scrolled": false
   },
   "outputs": [
    {
     "name": "stdout",
     "output_type": "stream",
     "text": [
      "<class 'pandas.core.frame.DataFrame'>\n",
      "Int64Index: 642485 entries, 0 to 223083\n",
      "Data columns (total 15 columns):\n",
      " #   Column                   Non-Null Count   Dtype         \n",
      "---  ------                   --------------   -----         \n",
      " 0   tripduration             642485 non-null  int64         \n",
      " 1   starttime                642485 non-null  datetime64[ns]\n",
      " 2   stoptime                 642485 non-null  datetime64[ns]\n",
      " 3   start_station_id         642485 non-null  int64         \n",
      " 4   start_station_name       642485 non-null  object        \n",
      " 5   start_station_latitude   642485 non-null  float64       \n",
      " 6   start_station_longitude  642485 non-null  float64       \n",
      " 7   end_station_id           642485 non-null  int64         \n",
      " 8   end_station_name         642485 non-null  object        \n",
      " 9   end_station_latitude     642485 non-null  float64       \n",
      " 10  end_station_longitude    642485 non-null  float64       \n",
      " 11  bikeid                   642485 non-null  int64         \n",
      " 12  usertype                 642485 non-null  object        \n",
      " 13  birth_year               642485 non-null  int64         \n",
      " 14  gender                   642485 non-null  object        \n",
      "dtypes: datetime64[ns](2), float64(4), int64(5), object(4)\n",
      "memory usage: 78.4+ MB\n"
     ]
    }
   ],
   "source": [
    "# convert the columns 'starttime' and 'stoptime' from string to datetime\n",
    "df_clean['starttime']= pd.to_datetime(df_clean['starttime'])\n",
    "df_clean['stoptime']= pd.to_datetime(df_clean['stoptime'])\n",
    "df_clean.info()"
   ]
  },
  {
   "cell_type": "code",
   "execution_count": 23,
   "metadata": {},
   "outputs": [],
   "source": [
    "# drop unneccary columns for the analysis\n",
    "df_clean.drop(['start_station_id', 'start_station_name', 'start_station_latitude', 'start_station_longitude',\n",
    "               'end_station_id', 'end_station_name', 'end_station_latitude', 'end_station_longitude','bikeid'], axis= 1, inplace= True)"
   ]
  },
  {
   "cell_type": "code",
   "execution_count": 24,
   "metadata": {
    "scrolled": false
   },
   "outputs": [
    {
     "name": "stdout",
     "output_type": "stream",
     "text": [
      "<class 'pandas.core.frame.DataFrame'>\n",
      "Int64Index: 642485 entries, 0 to 223083\n",
      "Data columns (total 6 columns):\n",
      " #   Column        Non-Null Count   Dtype         \n",
      "---  ------        --------------   -----         \n",
      " 0   tripduration  642485 non-null  int64         \n",
      " 1   starttime     642485 non-null  datetime64[ns]\n",
      " 2   stoptime      642485 non-null  datetime64[ns]\n",
      " 3   usertype      642485 non-null  object        \n",
      " 4   birth_year    642485 non-null  int64         \n",
      " 5   gender        642485 non-null  object        \n",
      "dtypes: datetime64[ns](2), int64(2), object(2)\n",
      "memory usage: 34.3+ MB\n"
     ]
    }
   ],
   "source": [
    "df_clean.info()"
   ]
  },
  {
   "cell_type": "code",
   "execution_count": 25,
   "metadata": {},
   "outputs": [],
   "source": [
    "# extract month, and day of week from the 'starttime' column\n",
    "df_clean['month'] = pd.DatetimeIndex(df_clean['starttime']).month\n",
    "# extract the day of the week where Monday= 0, and Sunday= 6.\n",
    "df_clean['day_of_week'] = pd.DatetimeIndex(df_clean['starttime']).dayofweek"
   ]
  },
  {
   "cell_type": "code",
   "execution_count": 26,
   "metadata": {},
   "outputs": [
    {
     "data": {
      "text/plain": [
       "0         1\n",
       "1         1\n",
       "2         1\n",
       "3         1\n",
       "4         1\n",
       "         ..\n",
       "223079    4\n",
       "223080    4\n",
       "223081    4\n",
       "223082    4\n",
       "223083    4\n",
       "Name: day_of_week, Length: 642485, dtype: int64"
      ]
     },
     "execution_count": 26,
     "metadata": {},
     "output_type": "execute_result"
    }
   ],
   "source": [
    "df_clean.day_of_week"
   ]
  },
  {
   "cell_type": "code",
   "execution_count": 27,
   "metadata": {
    "scrolled": true
   },
   "outputs": [
    {
     "data": {
      "text/html": [
       "<div>\n",
       "<style scoped>\n",
       "    .dataframe tbody tr th:only-of-type {\n",
       "        vertical-align: middle;\n",
       "    }\n",
       "\n",
       "    .dataframe tbody tr th {\n",
       "        vertical-align: top;\n",
       "    }\n",
       "\n",
       "    .dataframe thead th {\n",
       "        text-align: right;\n",
       "    }\n",
       "</style>\n",
       "<table border=\"1\" class=\"dataframe\">\n",
       "  <thead>\n",
       "    <tr style=\"text-align: right;\">\n",
       "      <th></th>\n",
       "      <th>tripduration</th>\n",
       "      <th>starttime</th>\n",
       "      <th>stoptime</th>\n",
       "      <th>usertype</th>\n",
       "      <th>birth_year</th>\n",
       "      <th>gender</th>\n",
       "      <th>month</th>\n",
       "      <th>day_of_week</th>\n",
       "    </tr>\n",
       "  </thead>\n",
       "  <tbody>\n",
       "    <tr>\n",
       "      <th>0</th>\n",
       "      <td>371</td>\n",
       "      <td>2019-01-01 00:09:13.798</td>\n",
       "      <td>2019-01-01 00:15:25.336</td>\n",
       "      <td>Subscriber</td>\n",
       "      <td>1987</td>\n",
       "      <td>male</td>\n",
       "      <td>1</td>\n",
       "      <td>1</td>\n",
       "    </tr>\n",
       "    <tr>\n",
       "      <th>1</th>\n",
       "      <td>264</td>\n",
       "      <td>2019-01-01 00:33:56.182</td>\n",
       "      <td>2019-01-01 00:38:20.880</td>\n",
       "      <td>Subscriber</td>\n",
       "      <td>1990</td>\n",
       "      <td>male</td>\n",
       "      <td>1</td>\n",
       "      <td>1</td>\n",
       "    </tr>\n",
       "    <tr>\n",
       "      <th>2</th>\n",
       "      <td>458</td>\n",
       "      <td>2019-01-01 00:41:54.600</td>\n",
       "      <td>2019-01-01 00:49:33.273</td>\n",
       "      <td>Subscriber</td>\n",
       "      <td>1977</td>\n",
       "      <td>male</td>\n",
       "      <td>1</td>\n",
       "      <td>1</td>\n",
       "    </tr>\n",
       "    <tr>\n",
       "      <th>3</th>\n",
       "      <td>364</td>\n",
       "      <td>2019-01-01 00:43:32.571</td>\n",
       "      <td>2019-01-01 00:49:37.426</td>\n",
       "      <td>Subscriber</td>\n",
       "      <td>1993</td>\n",
       "      <td>male</td>\n",
       "      <td>1</td>\n",
       "      <td>1</td>\n",
       "    </tr>\n",
       "    <tr>\n",
       "      <th>4</th>\n",
       "      <td>681</td>\n",
       "      <td>2019-01-01 00:49:56.464</td>\n",
       "      <td>2019-01-01 01:01:17.701</td>\n",
       "      <td>Subscriber</td>\n",
       "      <td>1979</td>\n",
       "      <td>female</td>\n",
       "      <td>1</td>\n",
       "      <td>1</td>\n",
       "    </tr>\n",
       "  </tbody>\n",
       "</table>\n",
       "</div>"
      ],
      "text/plain": [
       "   tripduration               starttime                stoptime    usertype  \\\n",
       "0           371 2019-01-01 00:09:13.798 2019-01-01 00:15:25.336  Subscriber   \n",
       "1           264 2019-01-01 00:33:56.182 2019-01-01 00:38:20.880  Subscriber   \n",
       "2           458 2019-01-01 00:41:54.600 2019-01-01 00:49:33.273  Subscriber   \n",
       "3           364 2019-01-01 00:43:32.571 2019-01-01 00:49:37.426  Subscriber   \n",
       "4           681 2019-01-01 00:49:56.464 2019-01-01 01:01:17.701  Subscriber   \n",
       "\n",
       "   birth_year  gender  month  day_of_week  \n",
       "0        1987    male      1            1  \n",
       "1        1990    male      1            1  \n",
       "2        1977    male      1            1  \n",
       "3        1993    male      1            1  \n",
       "4        1979  female      1            1  "
      ]
     },
     "execution_count": 27,
     "metadata": {},
     "output_type": "execute_result"
    }
   ],
   "source": [
    "df_clean.head()"
   ]
  },
  {
   "cell_type": "markdown",
   "metadata": {},
   "source": [
    "## Univariate Exploration"
   ]
  },
  {
   "cell_type": "markdown",
   "metadata": {},
   "source": [
    "I am interested in finding answers to the following qusetions:\n",
    "- What is the popular month of the year for bluebike rides?\n",
    "- what is the busiest day of the week for bluebike rides?\n",
    "- which gender is more interested in bluebike rides?\n",
    "- what is the most frequent user type?\n",
    "- what is the average duration of bluebike rides?"
   ]
  },
  {
   "cell_type": "markdown",
   "metadata": {},
   "source": [
    "First, I will start investigating the trip duration variable."
   ]
  },
  {
   "cell_type": "code",
   "execution_count": 28,
   "metadata": {
    "scrolled": false
   },
   "outputs": [
    {
     "data": {
      "image/png": "[encoded data removed]",
      "text/plain": [
       "<Figure size 576x360 with 1 Axes>"
      ]
     },
     "metadata": {
      "needs_background": "light"
     },
     "output_type": "display_data"
    }
   ],
   "source": [
    "binsize = 500\n",
    "bins = np.arange(0, df_clean['tripduration'].max()+binsize, binsize)\n",
    "\n",
    "plt.figure(figsize=[8, 5])\n",
    "plt.hist(data= df_clean, x= 'tripduration')\n",
    "plt.xlabel('duration (sec)')\n",
    "plt.show()"
   ]
  },
  {
   "cell_type": "markdown",
   "metadata": {},
   "source": [
    "since the bar is placed in the far left of the figure, with a larg empty space on the right, this suggest that there are some outliers in the dataset. It is best to remove them out to get more accurate insights. "
   ]
  },
  {
   "cell_type": "code",
   "execution_count": 29,
   "metadata": {
    "scrolled": false
   },
   "outputs": [
    {
     "name": "stdout",
     "output_type": "stream",
     "text": [
      "2737\n",
      "        tripduration               starttime                stoptime  \\\n",
      "32             31521 2019-01-01 02:13:52.303 2019-01-01 10:59:13.699   \n",
      "60             46059 2019-01-01 08:04:17.713 2019-01-01 20:51:57.211   \n",
      "102            88888 2019-01-01 09:30:31.173 2019-01-02 10:12:00.001   \n",
      "313          1484174 2019-01-01 12:06:17.369 2019-01-18 16:22:31.780   \n",
      "314          1933423 2019-01-01 12:07:36.695 2019-01-23 21:11:20.079   \n",
      "...              ...                     ...                     ...   \n",
      "222638         52392 2019-05-31 21:51:24.022 2019-06-01 12:24:36.031   \n",
      "222697        333512 2019-05-31 22:03:26.601 2019-06-04 18:41:59.508   \n",
      "222698         91698 2019-05-31 22:03:36.237 2019-06-01 23:31:55.194   \n",
      "222973         79757 2019-05-31 23:13:57.587 2019-06-01 21:23:15.586   \n",
      "222974         86030 2019-05-31 23:14:47.866 2019-06-01 23:08:38.189   \n",
      "\n",
      "        usertype  birth_year   gender  month  day_of_week  \n",
      "32      Customer        1969  unknown      1            1  \n",
      "60      Customer        1969  unknown      1            1  \n",
      "102     Customer        1969  unknown      1            1  \n",
      "313     Customer        1969  unknown      1            1  \n",
      "314     Customer        1969  unknown      1            1  \n",
      "...          ...         ...      ...    ...          ...  \n",
      "222638  Customer        1969  unknown      5            4  \n",
      "222697  Customer        1969  unknown      5            4  \n",
      "222698  Customer        1969  unknown      5            4  \n",
      "222973  Customer        1969  unknown      5            4  \n",
      "222974  Customer        1969  unknown      5            4  \n",
      "\n",
      "[2737 rows x 8 columns]\n"
     ]
    }
   ],
   "source": [
    "# select the outliers \n",
    "outliers = (df_clean['tripduration'] > 10000)\n",
    "print(outliers.sum())\n",
    "print(df_clean.loc[outliers,:])"
   ]
  },
  {
   "cell_type": "code",
   "execution_count": 30,
   "metadata": {},
   "outputs": [],
   "source": [
    "# remove the outliers\n",
    "df_clean = df_clean.loc[-outliers,:]"
   ]
  },
  {
   "cell_type": "code",
   "execution_count": 31,
   "metadata": {
    "scrolled": true
   },
   "outputs": [
    {
     "data": {
      "image/png": "[encoded data removed]",
      "text/plain": [
       "<Figure size 576x360 with 1 Axes>"
      ]
     },
     "metadata": {
      "needs_background": "light"
     },
     "output_type": "display_data"
    }
   ],
   "source": [
    "# re-plot the distribution\n",
    "binsize = 500\n",
    "bins = np.arange(0, df_clean['tripduration'].max()+binsize, binsize)\n",
    "\n",
    "plt.figure(figsize=[8, 5])\n",
    "plt.hist(data= df_clean, x= 'tripduration')\n",
    "plt.xlabel('Duration (sec)')\n",
    "plt.show()"
   ]
  },
  {
   "cell_type": "markdown",
   "metadata": {},
   "source": [
    "The shape of the histogram is right skewed with a very long tail, therfore, I will implement a log scale. "
   ]
  },
  {
   "cell_type": "code",
   "execution_count": 32,
   "metadata": {
    "scrolled": true
   },
   "outputs": [
    {
     "data": {
      "image/png": "[encoded data removed]",
      "text/plain": [
       "<Figure size 576x360 with 1 Axes>"
      ]
     },
     "metadata": {
      "needs_background": "light"
     },
     "output_type": "display_data"
    }
   ],
   "source": [
    "# plot a log scale\n",
    "log_binsize = 0.1\n",
    "bins = 10 ** np.arange(1.5, np.log10(df_clean['tripduration'].max())+log_binsize, log_binsize)\n",
    "ticks = [30,60, 100, 300, 1000, 3000, 10000]\n",
    "labels = ['{}'.format(v) for v in ticks]\n",
    "plt.figure(figsize=[8, 5])\n",
    "plt.hist(data = df_clean, x = 'tripduration', bins = bins)\n",
    "plt.xscale('log')\n",
    "plt.xlabel('Duration (sec)')\n",
    "plt.xticks(ticks,labels)\n",
    "plt.show()"
   ]
  },
  {
   "cell_type": "markdown",
   "metadata": {},
   "source": [
    "Now the shape took a binomial distribution, where the majority of the bike rides took approximatly between 500 and 1500 secondes. However, it would be more easiar to understand this variable if we converted the secondes to minuts. "
   ]
  },
  {
   "cell_type": "code",
   "execution_count": 33,
   "metadata": {},
   "outputs": [],
   "source": [
    "# convert seconds to minutes\n",
    "df_clean['tripduration_min'] = df_clean['tripduration'] / 60"
   ]
  },
  {
   "cell_type": "code",
   "execution_count": 34,
   "metadata": {
    "scrolled": false
   },
   "outputs": [
    {
     "data": {
      "image/png": "[encoded data removed]",
      "text/plain": [
       "<Figure size 576x360 with 1 Axes>"
      ]
     },
     "metadata": {
      "needs_background": "light"
     },
     "output_type": "display_data"
    }
   ],
   "source": [
    "# re-plot the log scale \n",
    "log_binsize = 0.1\n",
    "bins = 10 ** np.arange(0, np.log10(df_clean['tripduration_min'].max())+log_binsize, log_binsize)\n",
    "ticks =  [ 1 , 3, 10, 30, 100, 300, 1000]\n",
    "labels = ['{}'.format(v) for v in ticks]\n",
    "plt.figure(figsize=[8, 5])\n",
    "plt.hist(data = df_clean, x = 'tripduration_min', bins = bins)\n",
    "plt.xscale('log')\n",
    "plt.xlabel('Duration (min)')\n",
    "plt.xticks(ticks,labels)\n",
    "plt.show()"
   ]
  },
  {
   "cell_type": "markdown",
   "metadata": {},
   "source": [
    "Based on the histogram above, the majority of the rides took approximatly between 8 to 20 minutes.  "
   ]
  },
  {
   "cell_type": "code",
   "execution_count": 35,
   "metadata": {
    "scrolled": false
   },
   "outputs": [
    {
     "data": {
      "image/png": "[encoded data removed]",
      "text/plain": [
       "<Figure size 576x576 with 2 Axes>"
      ]
     },
     "metadata": {
      "needs_background": "light"
     },
     "output_type": "display_data"
    }
   ],
   "source": [
    "# plotting the two categorical variables together: gender, and usertype\n",
    "fig, ax = plt.subplots(nrows= 2, figsize = [8,8])\n",
    "\n",
    "default_color = sb.color_palette()[1]\n",
    "sb.countplot(data = df_clean, x = 'gender', color = default_color, ax = ax[0])\n",
    "sb.countplot(data = df_clean, x = 'usertype', color = default_color, ax = ax[1])\n",
    "\n",
    "plt.show()"
   ]
  },
  {
   "cell_type": "markdown",
   "metadata": {},
   "source": [
    "The vast majority of bike riders are males. The female riders are less than the half male rider count. The user type bar plot shows that subsicribers are approximatly five times more than the single trip riders.\n",
    "\n",
    "Next, I'm interested in knowing the most popular month for blue bike rides. "
   ]
  },
  {
   "cell_type": "code",
   "execution_count": 36,
   "metadata": {
    "scrolled": false
   },
   "outputs": [
    {
     "data": {
      "image/png": "[encoded data removed]",
      "text/plain": [
       "<Figure size 576x360 with 1 Axes>"
      ]
     },
     "metadata": {
      "needs_background": "light"
     },
     "output_type": "display_data"
    }
   ],
   "source": [
    "# plot distribution of month variable\n",
    "plt.figure(figsize=[8, 5])\n",
    "default_color = sb.color_palette()[0]\n",
    "sb.countplot(data = df_clean, x = 'month', color = default_color)\n",
    "plt.xticks([0, 1, 2, 3, 4], ['January', 'February', 'March', 'April', 'May'])\n",
    "plt.title('Distribution of Blue Bike trips over the months')\n",
    "plt.xlabel('Month')\n",
    "plt.show()"
   ]
  },
  {
   "cell_type": "markdown",
   "metadata": {},
   "source": [
    "The busiest month for bike rides is May with rides more than 200k, then comes April with more than 150k rides. January has the least bike rides, which is approximatly 70k.\n",
    "\n",
    "Next, I will see the distribution of bike rides for the days of the week:"
   ]
  },
  {
   "cell_type": "code",
   "execution_count": 37,
   "metadata": {
    "scrolled": true
   },
   "outputs": [
    {
     "data": {
      "image/png": "[encoded data removed]",
      "text/plain": [
       "<Figure size 720x360 with 1 Axes>"
      ]
     },
     "metadata": {
      "needs_background": "light"
     },
     "output_type": "display_data"
    }
   ],
   "source": [
    "# plot the day of week variable\n",
    "plt.figure(figsize=[10, 5])\n",
    "default_color = sb.color_palette()[0]\n",
    "sb.countplot(data = df_clean, x = 'day_of_week', color = default_color)\n",
    "plt.xticks([0,1,2,3,4,5,6],['Mon','Tue','Wed','Thu','Fri','Sat','Sun'])\n",
    "plt.title('Distribution of Blue Bike trips over weekdays')\n",
    "plt.xlabel('Day of Week')\n",
    "plt.show()"
   ]
  },
  {
   "cell_type": "markdown",
   "metadata": {},
   "source": [
    "Interestingly, the distribution of bike rides over the days of the week is nearly the same. Except for saturday and sunday, with sunday having the least number of rides. "
   ]
  },
  {
   "cell_type": "markdown",
   "metadata": {},
   "source": [
    "### Discuss the distribution(s) of your variable(s) of interest. Were there any unusual points? Did you need to perform any transformations?\n",
    "\n",
    "The distribution of the trip duration was right skewed with a very long tail, so I needed to transform the scale to log. Under the transformation, the majority of the rides took approximatly between 8 to 20 minutes.\n",
    "\n",
    "### Of the features you investigated, were there any unusual distributions? Did you perform any operations on the data to tidy, adjust, or change the form of the data? If so, why did you do this?\n",
    "\n",
    "The trip duration values contained some outliers, and they needed to be removed for more accurate insights. Also, the trip duration value unit was converted from seconds to minutes. "
   ]
  },
  {
   "cell_type": "markdown",
   "metadata": {},
   "source": [
    "## Bivariate Exploration"
   ]
  },
  {
   "cell_type": "markdown",
   "metadata": {},
   "source": [
    "I'm interested in knowing whether or not the following pairs of variables have a relationship or not:\n",
    "- month and trip duration\n",
    "- week days and trip duration\n",
    "- usertype and day of week\n",
    "- usertype and duration\n",
    "- usertype and month"
   ]
  },
  {
   "cell_type": "markdown",
   "metadata": {},
   "source": [
    "#### Month and trip duration:"
   ]
  },
  {
   "cell_type": "code",
   "execution_count": 38,
   "metadata": {
    "scrolled": true
   },
   "outputs": [
    {
     "data": {
      "image/png": "[encoded data removed]",
      "text/plain": [
       "<Figure size 432x288 with 1 Axes>"
      ]
     },
     "metadata": {
      "needs_background": "light"
     },
     "output_type": "display_data"
    }
   ],
   "source": [
    "sb.boxplot(data=df_clean, x='month', y='tripduration_min')\n",
    "plt.xticks([0, 1, 2, 3, 4], ['January', 'February', 'March', 'April', 'May'])\n",
    "plt.ylim([0,45]);"
   ]
  },
  {
   "cell_type": "markdown",
   "metadata": {},
   "source": [
    "April and May had the highest average trip duration which is nearly 13 minutes. while January and Febreuary had the same average of nearly 9 minutes, and it is the lowest. This tells us that on average people tend to spend less time riding a bike in the cold months, January and February.   "
   ]
  },
  {
   "cell_type": "markdown",
   "metadata": {},
   "source": [
    "#### Week days and average trip duration:"
   ]
  },
  {
   "cell_type": "code",
   "execution_count": 39,
   "metadata": {
    "scrolled": true
   },
   "outputs": [
    {
     "data": {
      "image/png": "[encoded data removed]",
      "text/plain": [
       "<Figure size 432x288 with 1 Axes>"
      ]
     },
     "metadata": {
      "needs_background": "light"
     },
     "output_type": "display_data"
    }
   ],
   "source": [
    "base_color = sb.color_palette()[0]\n",
    "sb.pointplot(data=df_clean, x= 'day_of_week', y='tripduration_min', color=base_color, ci='sd', linestyles=\"\")\n",
    "plt.xticks([0,1,2,3,4,5,6],['Mon','Tue','Wed','Thu','Fri','Sat','Sun'])\n",
    "plt.xticks(rotation=15)\n",
    "plt.title('Average Duration per Day of Week')\n",
    "plt.xlabel('Day of Week')\n",
    "plt.ylabel('Avg. Trip Duration (minutes)');"
   ]
  },
  {
   "cell_type": "markdown",
   "metadata": {},
   "source": [
    "The week ends , Saturday and Sunday has the highest trip duration averages of approximatly 21 min,and 20 min respectively. The work days of the week show a nearly similar average."
   ]
  },
  {
   "cell_type": "markdown",
   "metadata": {},
   "source": [
    "#### User type and average trip duration:"
   ]
  },
  {
   "cell_type": "code",
   "execution_count": 40,
   "metadata": {
    "scrolled": false
   },
   "outputs": [
    {
     "data": {
      "image/png": "[encoded data removed]",
      "text/plain": [
       "<Figure size 432x288 with 1 Axes>"
      ]
     },
     "metadata": {
      "needs_background": "light"
     },
     "output_type": "display_data"
    }
   ],
   "source": [
    "base_color = sb.color_palette()[0]\n",
    "sb.pointplot(data=df_clean, x= 'usertype', y='tripduration_min', color=base_color, ci='sd', linestyles=\"\")\n",
    "plt.xticks(rotation=15)\n",
    "plt.title('Average Duration per User Type')\n",
    "plt.xlabel('User Type')\n",
    "plt.ylabel('Avg. Trip Duration (minutes)');"
   ]
  },
  {
   "cell_type": "markdown",
   "metadata": {},
   "source": [
    "Interestingly, the average duration of trips for single ride customers is much more higher than that for the subsicribers, with average durations of ~30 minutes and ~13 minutes respectivly. "
   ]
  },
  {
   "cell_type": "markdown",
   "metadata": {},
   "source": [
    "#### User type and day of week:"
   ]
  },
  {
   "cell_type": "code",
   "execution_count": 41,
   "metadata": {
    "scrolled": true
   },
   "outputs": [
    {
     "data": {
      "image/png": "[encoded data removed]",
      "text/plain": [
       "<Figure size 576x360 with 1 Axes>"
      ]
     },
     "metadata": {
      "needs_background": "light"
     },
     "output_type": "display_data"
    }
   ],
   "source": [
    "# plot a clustered bar chart, since we want to show the relationship between two categorical variables\n",
    "plt.figure(figsize=[8, 5])\n",
    "sb.countplot(data = df_clean, x = 'day_of_week', hue = 'usertype')\n",
    "plt.xticks([0,1,2,3,4,5,6],['Mon','Tue','Wed','Thu','Fri','Sat','Sun']);"
   ]
  },
  {
   "cell_type": "markdown",
   "metadata": {},
   "source": [
    "As shown in the plot above, it seems that single ride customers prefer taking the bike trip during the weekends, Saturday and Sunday. During weekends, customer bike trips reached almost 30k, while on  workdays it is around 10k. Subscribers on the other hand, seem to prefer workdays over weekends for the bike trips. Wednesday and Thursday are the most popular days for subsicribers, reaching more than 90k trips.    "
   ]
  },
  {
   "cell_type": "markdown",
   "metadata": {},
   "source": [
    "#### Month and user type relationship:"
   ]
  },
  {
   "cell_type": "code",
   "execution_count": 42,
   "metadata": {
    "scrolled": true
   },
   "outputs": [
    {
     "data": {
      "image/png": "[encoded data removed]",
      "text/plain": [
       "<Figure size 576x360 with 1 Axes>"
      ]
     },
     "metadata": {
      "needs_background": "light"
     },
     "output_type": "display_data"
    }
   ],
   "source": [
    "# plot a clustered bar chart, since we want to show the relationship between two categorical variables\n",
    "plt.figure(figsize=[8, 5])\n",
    "sb.countplot(data = df_clean, x = 'month', hue = 'usertype')\n",
    "plt.xticks([0, 1, 2, 3, 4], ['January', 'February', 'March', 'April', 'May']);"
   ]
  },
  {
   "cell_type": "markdown",
   "metadata": {},
   "source": [
    "Subscribers and customers both prefer the warm months for taking bike trips. May has the higest amount of bike trips, with a approximatly 160k subscriber trips, and 50k customer trips.  "
   ]
  },
  {
   "cell_type": "markdown",
   "metadata": {},
   "source": [
    "### Talk about some of the relationships you observed in this part of the investigation. How did the feature(s) of interest vary with other features in the dataset?\n",
    "\n",
    "User type and day of week had an interesting relationship. Subscribers took more bike trips on workdays, while customers took more trips on weekends. The reason might be that subscribers use the bluebikes as a transportation option to go to their workplace.\n",
    "\n",
    "Another surprising relationship was between the user type and the average trip duration. Customers take much longer trips than subsicribers. Perhaps this is also due to the expectation that subscribers use the bikes only to get to work, and their workplace is not very far. Customers on the other hand, might use the bikes to do some excersie or to take tour around the city.\n",
    "\n",
    "Subscribers and customers both prefer the warm months for taking bike trips."
   ]
  },
  {
   "cell_type": "markdown",
   "metadata": {},
   "source": [
    "## Multivariate Exploration"
   ]
  },
  {
   "cell_type": "markdown",
   "metadata": {},
   "source": [
    "After the bivariat exploration, I am very interested to further investegate the relationship of these features together:\n",
    "- user type, day of week and trip duration\n",
    "- user type, month and trip duration\n",
    "- gender, weekdays, and trip duration"
   ]
  },
  {
   "cell_type": "code",
   "execution_count": 43,
   "metadata": {
    "scrolled": true
   },
   "outputs": [
    {
     "data": {
      "image/png": "[encoded data removed]",
      "text/plain": [
       "<Figure size 576x360 with 1 Axes>"
      ]
     },
     "metadata": {
      "needs_background": "light"
     },
     "output_type": "display_data"
    }
   ],
   "source": [
    "# plot the relationship of two categorical variables and one numeric variable\n",
    "plt.figure(figsize=([8,5]))\n",
    "ax = sb.barplot(data = df_clean, x = 'day_of_week', y = 'tripduration_min', hue = 'usertype')\n",
    "ax.legend(loc = 8, ncol = 3, framealpha = 1, title = 'User Type')\n",
    "plt.xticks([0,1,2,3,4,5,6],['Mon','Tue','Wed','Thu','Fri','Sat','Sun']);\n",
    "plt.ylabel('Avg. Trip Duration (minutes)')\n",
    "plt.xlabel('');"
   ]
  },
  {
   "cell_type": "markdown",
   "metadata": {},
   "source": [
    "On average, subscribers take a slightly longer trips in weekends over workdays. Customers alos take logner trips during the weekends. The average duration for subscribers is idintical over the workdays, while for costomers Monday has the highest duration.   "
   ]
  },
  {
   "cell_type": "code",
   "execution_count": 56,
   "metadata": {
    "scrolled": true
   },
   "outputs": [
    {
     "data": {
      "image/png": "[encoded data removed]",
      "text/plain": [
       "<Figure size 576x360 with 1 Axes>"
      ]
     },
     "metadata": {
      "needs_background": "light"
     },
     "output_type": "display_data"
    }
   ],
   "source": [
    "# plot the relationship of two categorical variables (month and user type) and one numeric variable\n",
    "# (average duration)\n",
    "plt.figure(figsize=([8,5]))\n",
    "sb.pointplot(data=df_clean, x= 'month', y='tripduration_min', hue ='usertype',\n",
    "             ci='sd', dodge = 0.1 , linestyles=\"\").legend(title = 'User Type')\n",
    "plt.xticks([0, 1, 2, 3, 4], ['January', 'February', 'March', 'April', 'May'])\n",
    "plt.title('Average Duration Over the Months per User Type')\n",
    "plt.xlabel('Months')\n",
    "plt.ylabel('Avg. Trip Duration (minutes)');"
   ]
  },
  {
   "cell_type": "markdown",
   "metadata": {},
   "source": [
    "Customers clearly tend to take longer bike trips during March, April, and May becuase the weather is warmer. Subscribers nearly take the same trip lengths of 12 minutes for all the five months alike. This probably means they use the bikes to get to the same destenation everyday (i.e. work).  "
   ]
  },
  {
   "cell_type": "markdown",
   "metadata": {},
   "source": [
    "- Average duration for genders over the days of week:"
   ]
  },
  {
   "cell_type": "code",
   "execution_count": 67,
   "metadata": {
    "scrolled": true
   },
   "outputs": [
    {
     "data": {
      "image/png": "[encoded data removed]",
      "text/plain": [
       "<Figure size 576x360 with 2 Axes>"
      ]
     },
     "metadata": {
      "needs_background": "light"
     },
     "output_type": "display_data"
    }
   ],
   "source": [
    "# # plot the relationship of two categorical variables (gender, day of week) and one numeric variable\n",
    "# (average duration) \n",
    "plt.figure(figsize=(8,5))\n",
    "cat_means = df_clean.groupby(['gender', 'day_of_week']).mean()['tripduration_min']\n",
    "cat_means = cat_means.reset_index(name = 'tripduration_min_avg')\n",
    "cat_means = cat_means.pivot(index = 'day_of_week', columns = 'gender',\n",
    "                            values = 'tripduration_min_avg')\n",
    "sb.heatmap(cat_means, annot = True, fmt = '.3f',\n",
    "           cbar_kws = {'label' : 'Avg. Trip Duration (minutes)'},\n",
    "           yticklabels = ('Mon','Tue','Wed','Thu','Fri','Sat','Sun'))\n",
    "plt.xlabel('Gender')\n",
    "plt.ylabel('Week Days')\n",
    "plt.title('Average Duration for Gender Over the Weekdays');"
   ]
  },
  {
   "cell_type": "markdown",
   "metadata": {},
   "source": [
    "On average, females tend to spend more time riding the bike than males do. Both males and females ride the bikes for a longer period of time on Saturdays and Sundays than they do during workdays. "
   ]
  },
  {
   "cell_type": "code",
   "execution_count": 44,
   "metadata": {},
   "outputs": [],
   "source": [
    "# save to csv file\n",
    "df_clean.to_csv('blue_bike_clean')"
   ]
  },
  {
   "cell_type": "markdown",
   "metadata": {},
   "source": [
    "### Resources\n",
    "- https://www.bluebikes.com/system-data\n",
    "- https://pandas.pydata.org/pandas-docs/stable/user_guide/merging.html\n",
    "- https://stackoverflow.com/questions/13757090/pandas-column-access-w-column-names-containing-spaces\n",
    "- https://stackoverflow.com/questions/20093474/python-pandas-replace-number-with-string\n",
    "- https://stackoverflow.com/questions/22100130/pandas-replace-multiple-values-one-column\n",
    "- https://pandas.pydata.org/pandas-docs/stable/reference/api/pandas.DataFrame.drop.html\n",
    "- https://stackoverflow.com/questions/25146121/extracting-just-month-and-year-separately-from-pandas-datetime-column\n",
    "- https://pandas.pydata.org/pandas-docs/stable/reference/api/pandas.Series.dt.dayofweek.html#pandas.Series.dt.dayofweek"
   ]
  }
 ],
 "metadata": {
  "kernelspec": {
   "display_name": "Python 3",
   "language": "python",
   "name": "python3"
  },
  "language_info": {
   "codemirror_mode": {
    "name": "ipython",
    "version": 3
   },
   "file_extension": ".py",
   "mimetype": "text/x-python",
   "name": "python",
   "nbconvert_exporter": "python",
   "pygments_lexer": "ipython3",
   "version": "3.8.3"
  }
 },
 "nbformat": 4,
 "nbformat_minor": 2
}
